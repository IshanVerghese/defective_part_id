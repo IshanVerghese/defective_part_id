{
 "cells": [
  {
   "cell_type": "code",
   "execution_count": null,
   "metadata": {
    "gradient": {
     "editing": false,
     "execution_count": 1,
     "id": "8596ad38-2424-4edd-9414-ecbaa0d0e354",
     "kernelId": "9db3eb44-d92f-4d8e-a44e-0dfbaa5e89c0",
     "source_hidden": false
    }
   },
   "outputs": [],
   "source": [
    "from fastai.vision.all import *\n",
    "from fastai.vision.widgets import *"
   ]
  },
  {
   "cell_type": "code",
   "execution_count": null,
   "metadata": {
    "gradient": {
     "editing": false,
     "execution_count": 2,
     "id": "7f9b0dc4-5db6-4a0d-824a-a0bd4b26e8b6",
     "kernelId": "9db3eb44-d92f-4d8e-a44e-0dfbaa5e89c0",
     "source_hidden": false
    }
   },
   "outputs": [],
   "source": [
    "path = Path()\n",
    "learn_inf = load_learner(path/'export.pkl', cpu=True)\n",
    "btn_upload = widgets.FileUpload()\n",
    "btn_run = widgets.Button(description='Classify')\n",
    "out_pl = widgets.Output()\n",
    "lbl_pred = widgets.Label()"
   ]
  },
  {
   "cell_type": "markdown",
   "metadata": {},
   "source": [
    "##Valve Stem Defect Identifier"
   ]
  },
  {
   "cell_type": "code",
   "execution_count": null,
   "metadata": {
    "gradient": {
     "editing": false,
     "execution_count": 3,
     "id": "d3483127-a925-4ece-8d72-17065eb8b039",
     "kernelId": "9db3eb44-d92f-4d8e-a44e-0dfbaa5e89c0",
     "source_hidden": false
    }
   },
   "outputs": [],
   "source": [
    "def on_click_classify(change):\n",
    "    img = PILImage.create(btn_upload.data[-1])\n",
    "    out_pl.clear_output()\n",
    "    with out_pl: display(img.to_thumb(128,128))\n",
    "    pred,pred_idx,probs = learn_inf.predict(img)\n",
    "    lbl_pred.value = f'Prediction: {pred}; Probability: {probs[pred_idx]:.04f}'\n",
    "\n"
   ]
  },
  {
   "cell_type": "code",
   "execution_count": null,
   "metadata": {
    "gradient": {
     "editing": false,
     "execution_count": 4,
     "id": "527a97b1-a3a0-402a-911f-3721a0b6e43d",
     "kernelId": "9db3eb44-d92f-4d8e-a44e-0dfbaa5e89c0",
     "source_hidden": false
    }
   },
   "outputs": [],
   "source": [
    "btn_run.on_click(on_click_classify)"
   ]
  },
  {
   "cell_type": "code",
   "execution_count": null,
   "metadata": {
    "gradient": {
     "editing": false,
     "execution_count": 5,
     "id": "e415f73f-8662-4e05-aa46-95b48d48dc33",
     "kernelId": "9db3eb44-d92f-4d8e-a44e-0dfbaa5e89c0",
     "source_hidden": false
    }
   },
   "outputs": [
    {
     "data": {
      "application/vnd.jupyter.widget-view+json": {
       "model_id": "39a15de6c10347178e99eb2a89ec55ca",
       "version_major": 2,
       "version_minor": 0
      },
      "text/plain": [
       "VBox(children=(Label(value='Select your part'), FileUpload(value={}, description='Upload'), Output(), Label(va…"
      ]
     },
     "metadata": {},
     "output_type": "display_data"
    }
   ],
   "source": [
    "display(VBox([widgets.Label('Select your part'), btn_upload, btn_run, out_pl, lbl_pred]))"
   ]
  },
  {
   "cell_type": "code",
   "execution_count": null,
   "metadata": {
    "gradient": {
     "editing": false,
     "id": "cc14523e-d027-4f46-a93e-f2cd5a871bee",
     "kernelId": "9db3eb44-d92f-4d8e-a44e-0dfbaa5e89c0"
    }
   },
   "outputs": [],
   "source": []
  }
 ],
 "metadata": {
  "kernelspec": {
   "display_name": "Python 3",
   "language": "python",
   "name": "python3"
  },
  "language_info": {
   "codemirror_mode": {
    "name": "ipython",
    "version": 3
   },
   "file_extension": ".py",
   "mimetype": "text/x-python",
   "name": "python",
   "nbconvert_exporter": "python",
   "pygments_lexer": "ipython3",
   "version": "3.8.6"
  }
 },
 "nbformat": 4,
 "nbformat_minor": 4
}
